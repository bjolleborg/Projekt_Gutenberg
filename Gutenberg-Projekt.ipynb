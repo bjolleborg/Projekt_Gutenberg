{
 "cells": [
  {
   "cell_type": "code",
   "execution_count": 1,
   "id": "4b446f58",
   "metadata": {},
   "outputs": [],
   "source": [
    "import streamlit as st\n",
    "import pandas as pd\n",
    "import requests\n",
    "\n",
    "from bs4 import BeautifulSoup\n",
    "from bs4.dammit import EncodingDetector"
   ]
  },
  {
   "cell_type": "code",
   "execution_count": 2,
   "id": "a8faa776",
   "metadata": {},
   "outputs": [],
   "source": [
    "BASE_URL = \"https://www.projekt-gutenberg.org/\""
   ]
  },
  {
   "cell_type": "code",
   "execution_count": 3,
   "id": "09f85378",
   "metadata": {},
   "outputs": [
    {
     "data": {
      "text/plain": [
       "<function streamlit.runtime.legacy_caching.caching.cache.<locals>.wrapper(f: ~F) -> ~F>"
      ]
     },
     "execution_count": 3,
     "metadata": {},
     "output_type": "execute_result"
    }
   ],
   "source": [
    "st.cache(suppress_st_warning = True)"
   ]
  },
  {
   "cell_type": "code",
   "execution_count": 4,
   "id": "d291d11a",
   "metadata": {},
   "outputs": [],
   "source": [
    "def scrape_author(autor):\n",
    "    \n",
    "    url = f\"{BASE_URL}autoren/namen/{autor.lower()}.html\"\n",
    "    \n",
    "    print(f\"Scrape Autor {autor} {url}\")\n",
    "    res = requests.get(url)\n",
    "    \n",
    "    if res.status_code != 200:\n",
    "        print(f\"Autor {autor} wurde nicht gefunden!\")\n",
    "        return None\n",
    "    \n",
    "    try:\n",
    "        print(f\"Autor {autor} wurde gefunden!\")\n",
    "        author_site = BeautifulSoup(res.content, \"lxml\", from_encoding = EncodingDetector.find_declared_encoding(res.content, is_html = True))\n",
    "    \n",
    "    except Exception:\n",
    "        print(\"Error während dem Decoden\")\n",
    "        return None\n",
    "    \n",
    "    infos = {\"data\"      : None,\n",
    "            \"books\"      : _find_books(author_site),\n",
    "            \"info\"       : _find_info(author_site),\n",
    "            \"image_url\"  : _find_image(author_site)\n",
    "            }\n",
    "    \n",
    "    df_all = pd.DataFrame()\n",
    "    \n",
    "    for title, url in infos[\"books\"]:\n",
    "        st.markdown(f\"[{title}]({url})\")\n",
    "        print(f\"Scrape Buch '{title}' [{url}]\")\n",
    "        \n",
    "        df_temp = _scrape_book(url)\n",
    "        \n",
    "        df_all = pd.concat([df_all, df_temp], ignore_index = True)\n",
    "        \n",
    "    df_all[\"Autor\"] = autor.upper()\n",
    "    \n",
    "    infos[\"data\"] = df_all\n",
    "    \n",
    "    print(f\"Gefundene Sätze: {df_all.shape}\")\n",
    "    \n",
    "    return infos"
   ]
  },
  {
   "cell_type": "code",
   "execution_count": 5,
   "id": "213cf013",
   "metadata": {},
   "outputs": [],
   "source": [
    "def _find_books(books):\n",
    "    \n",
    "    tag = books.find(\"div\", {\"class\": \"archived\"})\n",
    "    \n",
    "    if tag == None:\n",
    "        return []\n",
    "    \n",
    "    book_url = []\n",
    "    \n",
    "    for l in tag.find_all(\"li\"):\n",
    "        \n",
    "        tag = l.find(\"a\", href = True)\n",
    "        book_title = tag.string\n",
    "        \n",
    "        url = f\"{BASE_URL}{tag['href'][6:]}\"\n",
    "        url = url[:url.rfind(\"/\")]\n",
    "                \n",
    "        book_url.append((book_title, url))\n",
    "        \n",
    "    return book_url"
   ]
  },
  {
   "cell_type": "code",
   "execution_count": 6,
   "id": "c6547183",
   "metadata": {},
   "outputs": [],
   "source": [
    "def _find_info(author_site):\n",
    "    \n",
    "    try:\n",
    "        tag = author_site.find_all(\"p\")\n",
    "        for p in tag:\n",
    "            if p.text != '\\xa0':\n",
    "                return p.text\n",
    "    except:\n",
    "        return None\n",
    "    "
   ]
  },
  {
   "cell_type": "code",
   "execution_count": 7,
   "id": "cf16f449",
   "metadata": {},
   "outputs": [],
   "source": [
    "def _find_image(author_site):\n",
    "    \n",
    "    try:\n",
    "        return f\"{BASE_URL}autoren{author_site.find('img', src = True, title = True)['src'][2:]}\"\n",
    "    \n",
    "    except:\n",
    "        return None"
   ]
  },
  {
   "cell_type": "code",
   "execution_count": 8,
   "id": "976c5305",
   "metadata": {},
   "outputs": [],
   "source": [
    "def _scrape_book(url):\n",
    "    res = requests.get(url)\n",
    "    \n",
    "    book_site = BeautifulSoup(res.content, \"lxml\", from_encoding = EncodingDetector.find_declared_encoding(res.content, is_html = True))\n",
    "    \n",
    "    subchapters = book_site.find_all(\"li\")\n",
    "    \n",
    "    subchapters_links = []\n",
    "    \n",
    "    for sub in subchapters:\n",
    "        link = sub.find(\"a\", href = True)\n",
    "        \n",
    "        subchapters_links.append(url + \"/\" + link[\"href\"])\n",
    "        \n",
    "    df = pd.DataFrame(columns = [\"Satz\"])\n",
    "    \n",
    "    progressbar = st.progress(0)\n",
    "    \n",
    "    for index, temp_url in enumerate(subchapters_links):\n",
    "        progressbar.progress(index + 1 / len(subchapters_links))\n",
    "        \n",
    "        res = requests.get(temp_url)\n",
    "        chapter = BeautifulSoup(res.content, \"lxml\", from_encoding = EncodingDetector.find_declared_encoding(res.content, is_html = True))\n",
    "        \n",
    "        data = _find_text(chapter)\n",
    "        \n",
    "        for satz in data.split(\".\"):\n",
    "            df.loc[len(df)] = satz\n",
    "    \n",
    "    progressbar.empty()\n",
    "    \n",
    "    df[\"Satz\"] = df[\"Satz\"].map(_correction).dropna()\n",
    "    \n",
    "    return df"
   ]
  },
  {
   "cell_type": "code",
   "execution_count": 9,
   "id": "00137f0a",
   "metadata": {},
   "outputs": [],
   "source": [
    "def _correction(string):\n",
    "    if len(string) < 4:\n",
    "        return None\n",
    "    else:\n",
    "        return string"
   ]
  },
  {
   "cell_type": "code",
   "execution_count": 10,
   "id": "3f5c1b44",
   "metadata": {},
   "outputs": [],
   "source": [
    "def _find_text(chapter):\n",
    "    text = \"\"\n",
    "    \n",
    "    for paragraph in chapter.find_all(\"p\"):\n",
    "        if paragraph.string:\n",
    "            text = text + paragraph.text\n",
    "            \n",
    "    return text"
   ]
  },
  {
   "cell_type": "code",
   "execution_count": 11,
   "id": "fc3ef64a",
   "metadata": {},
   "outputs": [
    {
     "name": "stdout",
     "output_type": "stream",
     "text": [
      "Scrape Autor kafka https://www.projekt-gutenberg.org/autoren/namen/kafka.html\n"
     ]
    },
    {
     "name": "stderr",
     "output_type": "stream",
     "text": [
      "2023-12-20 16:30:00.898 \n",
      "  \u001b[33m\u001b[1mWarning:\u001b[0m to view this Streamlit app on a browser, run it with the following\n",
      "  command:\n",
      "\n",
      "    streamlit run /Users/friday/anaconda3/lib/python3.11/site-packages/ipykernel_launcher.py [ARGUMENTS]\n"
     ]
    },
    {
     "name": "stdout",
     "output_type": "stream",
     "text": [
      "Autor kafka wurde gefunden!\n",
      "Scrape Buch 'Amerika' [https://www.projekt-gutenberg.org/kafka/amerika]\n"
     ]
    },
    {
     "ename": "StreamlitAPIException",
     "evalue": "Progress Value has invalid value [0.0, 1.0]: 1.025641",
     "output_type": "error",
     "traceback": [
      "\u001b[0;31m---------------------------------------------------------------------------\u001b[0m",
      "\u001b[0;31mStreamlitAPIException\u001b[0m                     Traceback (most recent call last)",
      "Cell \u001b[0;32mIn[11], line 1\u001b[0m\n\u001b[0;32m----> 1\u001b[0m scrape_author(\u001b[38;5;124m\"\u001b[39m\u001b[38;5;124mkafka\u001b[39m\u001b[38;5;124m\"\u001b[39m)\n",
      "Cell \u001b[0;32mIn[4], line 32\u001b[0m, in \u001b[0;36mscrape_author\u001b[0;34m(autor)\u001b[0m\n\u001b[1;32m     29\u001b[0m     st\u001b[38;5;241m.\u001b[39mmarkdown(\u001b[38;5;124mf\u001b[39m\u001b[38;5;124m\"\u001b[39m\u001b[38;5;124m[\u001b[39m\u001b[38;5;132;01m{\u001b[39;00mtitle\u001b[38;5;132;01m}\u001b[39;00m\u001b[38;5;124m](\u001b[39m\u001b[38;5;132;01m{\u001b[39;00murl\u001b[38;5;132;01m}\u001b[39;00m\u001b[38;5;124m)\u001b[39m\u001b[38;5;124m\"\u001b[39m)\n\u001b[1;32m     30\u001b[0m     \u001b[38;5;28mprint\u001b[39m(\u001b[38;5;124mf\u001b[39m\u001b[38;5;124m\"\u001b[39m\u001b[38;5;124mScrape Buch \u001b[39m\u001b[38;5;124m'\u001b[39m\u001b[38;5;132;01m{\u001b[39;00mtitle\u001b[38;5;132;01m}\u001b[39;00m\u001b[38;5;124m'\u001b[39m\u001b[38;5;124m [\u001b[39m\u001b[38;5;132;01m{\u001b[39;00murl\u001b[38;5;132;01m}\u001b[39;00m\u001b[38;5;124m]\u001b[39m\u001b[38;5;124m\"\u001b[39m)\n\u001b[0;32m---> 32\u001b[0m     df_temp \u001b[38;5;241m=\u001b[39m _scrape_book(url)\n\u001b[1;32m     34\u001b[0m     df_all \u001b[38;5;241m=\u001b[39m pd\u001b[38;5;241m.\u001b[39mconcat([df_all, df_temp], ignore_index \u001b[38;5;241m=\u001b[39m \u001b[38;5;28;01mTrue\u001b[39;00m)\n\u001b[1;32m     36\u001b[0m df_all[\u001b[38;5;124m\"\u001b[39m\u001b[38;5;124mAutor\u001b[39m\u001b[38;5;124m\"\u001b[39m] \u001b[38;5;241m=\u001b[39m autor\u001b[38;5;241m.\u001b[39mupper()\n",
      "Cell \u001b[0;32mIn[8], line 20\u001b[0m, in \u001b[0;36m_scrape_book\u001b[0;34m(url)\u001b[0m\n\u001b[1;32m     17\u001b[0m progressbar \u001b[38;5;241m=\u001b[39m st\u001b[38;5;241m.\u001b[39mprogress(\u001b[38;5;241m0\u001b[39m)\n\u001b[1;32m     19\u001b[0m \u001b[38;5;28;01mfor\u001b[39;00m index, temp_url \u001b[38;5;129;01min\u001b[39;00m \u001b[38;5;28menumerate\u001b[39m(subchapters_links):\n\u001b[0;32m---> 20\u001b[0m     progressbar\u001b[38;5;241m.\u001b[39mprogress(index \u001b[38;5;241m+\u001b[39m \u001b[38;5;241m1\u001b[39m \u001b[38;5;241m/\u001b[39m \u001b[38;5;28mlen\u001b[39m(subchapters_links))\n\u001b[1;32m     22\u001b[0m     res \u001b[38;5;241m=\u001b[39m requests\u001b[38;5;241m.\u001b[39mget(temp_url)\n\u001b[1;32m     23\u001b[0m     chapter \u001b[38;5;241m=\u001b[39m BeautifulSoup(res\u001b[38;5;241m.\u001b[39mcontent, \u001b[38;5;124m\"\u001b[39m\u001b[38;5;124mlxml\u001b[39m\u001b[38;5;124m\"\u001b[39m, from_encoding \u001b[38;5;241m=\u001b[39m EncodingDetector\u001b[38;5;241m.\u001b[39mfind_declared_encoding(res\u001b[38;5;241m.\u001b[39mcontent, is_html \u001b[38;5;241m=\u001b[39m \u001b[38;5;28;01mTrue\u001b[39;00m))\n",
      "File \u001b[0;32m~/anaconda3/lib/python3.11/site-packages/streamlit/elements/progress.py:126\u001b[0m, in \u001b[0;36mProgressMixin.progress\u001b[0;34m(self, value, text)\u001b[0m\n\u001b[1;32m    124\u001b[0m \u001b[38;5;66;03m# TODO: standardize numerical type checking across st.* functions.\u001b[39;00m\n\u001b[1;32m    125\u001b[0m progress_proto \u001b[38;5;241m=\u001b[39m ProgressProto()\n\u001b[0;32m--> 126\u001b[0m progress_proto\u001b[38;5;241m.\u001b[39mvalue \u001b[38;5;241m=\u001b[39m _get_value(value)\n\u001b[1;32m    127\u001b[0m text \u001b[38;5;241m=\u001b[39m _get_text(text)\n\u001b[1;32m    128\u001b[0m \u001b[38;5;28;01mif\u001b[39;00m text \u001b[38;5;129;01mis\u001b[39;00m \u001b[38;5;129;01mnot\u001b[39;00m \u001b[38;5;28;01mNone\u001b[39;00m:\n",
      "File \u001b[0;32m~/anaconda3/lib/python3.11/site-packages/streamlit/elements/progress.py:45\u001b[0m, in \u001b[0;36m_get_value\u001b[0;34m(value)\u001b[0m\n\u001b[1;32m     43\u001b[0m         \u001b[38;5;28;01mreturn\u001b[39;00m \u001b[38;5;28mint\u001b[39m(value \u001b[38;5;241m*\u001b[39m \u001b[38;5;241m100\u001b[39m)\n\u001b[1;32m     44\u001b[0m     \u001b[38;5;28;01melse\u001b[39;00m:\n\u001b[0;32m---> 45\u001b[0m         \u001b[38;5;28;01mraise\u001b[39;00m StreamlitAPIException(\n\u001b[1;32m     46\u001b[0m             \u001b[38;5;124m\"\u001b[39m\u001b[38;5;124mProgress Value has invalid value [0.0, 1.0]: \u001b[39m\u001b[38;5;132;01m%f\u001b[39;00m\u001b[38;5;124m\"\u001b[39m \u001b[38;5;241m%\u001b[39m value\n\u001b[1;32m     47\u001b[0m         )\n\u001b[1;32m     48\u001b[0m \u001b[38;5;28;01melse\u001b[39;00m:\n\u001b[1;32m     49\u001b[0m     \u001b[38;5;28;01mraise\u001b[39;00m StreamlitAPIException(\n\u001b[1;32m     50\u001b[0m         \u001b[38;5;124m\"\u001b[39m\u001b[38;5;124mProgress Value has invalid type: \u001b[39m\u001b[38;5;132;01m%s\u001b[39;00m\u001b[38;5;124m\"\u001b[39m \u001b[38;5;241m%\u001b[39m \u001b[38;5;28mtype\u001b[39m(value)\u001b[38;5;241m.\u001b[39m\u001b[38;5;18m__name__\u001b[39m\n\u001b[1;32m     51\u001b[0m     )\n",
      "\u001b[0;31mStreamlitAPIException\u001b[0m: Progress Value has invalid value [0.0, 1.0]: 1.025641"
     ]
    }
   ],
   "source": [
    "scrape_author(\"kafka\")"
   ]
  },
  {
   "cell_type": "code",
   "execution_count": null,
   "id": "b50a184b",
   "metadata": {},
   "outputs": [],
   "source": []
  }
 ],
 "metadata": {
  "kernelspec": {
   "display_name": "Python 3 (ipykernel)",
   "language": "python",
   "name": "python3"
  },
  "language_info": {
   "codemirror_mode": {
    "name": "ipython",
    "version": 3
   },
   "file_extension": ".py",
   "mimetype": "text/x-python",
   "name": "python",
   "nbconvert_exporter": "python",
   "pygments_lexer": "ipython3",
   "version": "3.11.5"
  }
 },
 "nbformat": 4,
 "nbformat_minor": 5
}
