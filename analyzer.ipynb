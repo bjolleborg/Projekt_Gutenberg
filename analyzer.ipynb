{
 "cells": [
  {
   "cell_type": "code",
   "execution_count": 2,
   "id": "b4955623",
   "metadata": {},
   "outputs": [],
   "source": [
    "import streamlit as st\n",
    "import pandas as pd\n",
    "\n",
    "from sklearn.feature_extraction.text import CountVectorizer\n",
    "from sklearn.model_selection import train_test_split\n",
    "from sklearn.naive_bayes import MultinomialNB"
   ]
  },
  {
   "cell_type": "code",
   "execution_count": 1,
   "id": "d25e6c9e",
   "metadata": {},
   "outputs": [],
   "source": [
    "def analyze(data):\n",
    "    df = pd.DataFrame()\n",
    "    \n",
    "    for i in data.values():\n",
    "        df = pd.concat([df, i['data']], ignore_index = True)\n",
    "    \n",
    "    df = df.dropna()\n",
    "    \n",
    "    vect = CountVectorizer()\n",
    "    \n",
    "    wordsCountArray = vect.fit_transform(df['satz'])\n",
    "    \n",
    "    X_train, X_test, y_train, y_test = train_test_split(wordsCountArray, df['Autor'], test_size=0.2, random_state=42)\n",
    "    \n",
    "    model = MultinomialNB()\n",
    "    \n",
    "    model.fit(X_train, y_train)\n",
    "    \n",
    "    autoren = data.keys()\n",
    "    \n",
    "    s = f\"Modell trainiert für Autoren: \\n\\n\"\n",
    "    \n",
    "    for i in autoren:\n",
    "        s += f\"\\t{i}\\n\"\n",
    "        \n",
    "    s += f\"Mit {X_train.shape[0]} Sätzen.\\n\\n\"\n",
    "    \n",
    "    s += f\"Modelgenauigkeit: {model.score(X_test, y_test) * 100:.2f}%\"\n",
    "    \n",
    "    st.markdown(s)\n",
    "    \n",
    "    return model, vect"
   ]
  },
  {
   "cell_type": "code",
   "execution_count": null,
   "id": "8139611e",
   "metadata": {},
   "outputs": [],
   "source": []
  }
 ],
 "metadata": {
  "kernelspec": {
   "display_name": "Python 3 (ipykernel)",
   "language": "python",
   "name": "python3"
  },
  "language_info": {
   "codemirror_mode": {
    "name": "ipython",
    "version": 3
   },
   "file_extension": ".py",
   "mimetype": "text/x-python",
   "name": "python",
   "nbconvert_exporter": "python",
   "pygments_lexer": "ipython3",
   "version": "3.11.5"
  }
 },
 "nbformat": 4,
 "nbformat_minor": 5
}
